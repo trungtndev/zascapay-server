{
 "cells": [
  {
   "metadata": {
    "ExecuteTime": {
     "end_time": "2025-10-15T09:35:53.966035Z",
     "start_time": "2025-10-15T09:35:47.046520Z"
    }
   },
   "cell_type": "code",
   "source": [
    "from ultralytics import YOLO\n",
    "\n",
    "# Load a model\n",
    "model = YOLO(\"yolo11x.pt\")  # load an official model\n",
    "\n",
    "# Retrieve metadata during export. Metadata needs to be added to config.pbtxt. See next section.\n",
    "metadata = []\n",
    "\n",
    "\n",
    "def export_cb(exporter):\n",
    "    metadata.append(exporter.metadata)\n",
    "\n",
    "\n",
    "model.add_callback(\"on_export_end\", export_cb)\n",
    "\n",
    "# Export the model\n",
    "onnx_file = model.export(format=\"onnx\", dynamic=True, opset=21)"
   ],
   "id": "6ed69579a10da785",
   "outputs": [
    {
     "name": "stdout",
     "output_type": "stream",
     "text": [
      "Ultralytics 8.3.213 🚀 Python-3.10.18 torch-2.8.0+cu128 CPU (11th Gen Intel Core i7-11800H @ 2.30GHz)\n",
      "YOLO11x summary (fused): 190 layers, 56,919,424 parameters, 0 gradients, 194.9 GFLOPs\n",
      "\n",
      "\u001B[34m\u001B[1mPyTorch:\u001B[0m starting from 'yolo11x.pt' with input shape (1, 3, 640, 640) BCHW and output shape(s) (1, 84, 8400) (109.3 MB)\n",
      "\n",
      "\u001B[34m\u001B[1mONNX:\u001B[0m starting export with onnx 1.19.1 opset 21...\n",
      "\u001B[34m\u001B[1mONNX:\u001B[0m slimming with onnxslim 0.1.71...\n",
      "\u001B[34m\u001B[1mONNX:\u001B[0m export success ✅ 4.6s, saved as 'yolo11x.onnx' (217.9 MB)\n",
      "\n",
      "Export complete (5.7s)\n",
      "Results saved to \u001B[1m/home/trung/Documents/zascapay-server\u001B[0m\n",
      "Predict:         yolo predict task=detect model=yolo11x.onnx imgsz=640  \n",
      "Validate:        yolo val task=detect model=yolo11x.onnx imgsz=640 data=/ultralytics/ultralytics/cfg/datasets/coco.yaml  \n",
      "Visualize:       https://netron.app\n"
     ]
    }
   ],
   "execution_count": 1
  },
  {
   "metadata": {
    "ExecuteTime": {
     "end_time": "2025-10-15T09:35:53.979678Z",
     "start_time": "2025-10-15T09:35:53.975741Z"
    }
   },
   "cell_type": "code",
   "source": [
    "from pathlib import Path\n",
    "\n",
    "# Define paths\n",
    "model_name = \"yolo11x\"\n",
    "triton_repo_path = Path(\"tmp\") / \"model_repo\"\n",
    "triton_model_path = triton_repo_path / model_name\n",
    "\n",
    "# Create directories\n",
    "(triton_model_path / \"1\").mkdir(parents=True, exist_ok=True)"
   ],
   "id": "51961ad6be5ef9f6",
   "outputs": [],
   "execution_count": 2
  },
  {
   "metadata": {
    "ExecuteTime": {
     "end_time": "2025-10-15T09:35:57.427591Z",
     "start_time": "2025-10-15T09:35:57.425119Z"
    }
   },
   "cell_type": "code",
   "source": [
    "from pathlib import Path\n",
    "\n",
    "# Move ONNX model to Triton Model path\n",
    "Path(onnx_file).rename(triton_model_path / \"1\" / \"model.onnx\")\n",
    "\n",
    "# Create config file\n",
    "(triton_model_path / \"config.pbtxt\").touch()\n",
    "\n",
    "data = \"\"\"\n",
    "# Add metadata\n",
    "parameters {\n",
    "  key: \"metadata\"\n",
    "  value {\n",
    "    string_value: \"%s\"\n",
    "  }\n",
    "}\n",
    "\"\"\" % metadata[0]  # noqa\n",
    "\n",
    "with open(triton_model_path / \"config.pbtxt\", \"w\") as f:\n",
    "    f.write(data)"
   ],
   "id": "eed47469ee423587",
   "outputs": [],
   "execution_count": 3
  },
  {
   "metadata": {
    "ExecuteTime": {
     "end_time": "2025-10-15T09:36:46.127383Z",
     "start_time": "2025-10-15T09:36:46.121261Z"
    }
   },
   "cell_type": "code",
   "source": "metadata[0][\"names\"]",
   "id": "b4b0224b3f057213",
   "outputs": [
    {
     "data": {
      "text/plain": [
       "{0: 'person',\n",
       " 1: 'bicycle',\n",
       " 2: 'car',\n",
       " 3: 'motorcycle',\n",
       " 4: 'airplane',\n",
       " 5: 'bus',\n",
       " 6: 'train',\n",
       " 7: 'truck',\n",
       " 8: 'boat',\n",
       " 9: 'traffic light',\n",
       " 10: 'fire hydrant',\n",
       " 11: 'stop sign',\n",
       " 12: 'parking meter',\n",
       " 13: 'bench',\n",
       " 14: 'bird',\n",
       " 15: 'cat',\n",
       " 16: 'dog',\n",
       " 17: 'horse',\n",
       " 18: 'sheep',\n",
       " 19: 'cow',\n",
       " 20: 'elephant',\n",
       " 21: 'bear',\n",
       " 22: 'zebra',\n",
       " 23: 'giraffe',\n",
       " 24: 'backpack',\n",
       " 25: 'umbrella',\n",
       " 26: 'handbag',\n",
       " 27: 'tie',\n",
       " 28: 'suitcase',\n",
       " 29: 'frisbee',\n",
       " 30: 'skis',\n",
       " 31: 'snowboard',\n",
       " 32: 'sports ball',\n",
       " 33: 'kite',\n",
       " 34: 'baseball bat',\n",
       " 35: 'baseball glove',\n",
       " 36: 'skateboard',\n",
       " 37: 'surfboard',\n",
       " 38: 'tennis racket',\n",
       " 39: 'bottle',\n",
       " 40: 'wine glass',\n",
       " 41: 'cup',\n",
       " 42: 'fork',\n",
       " 43: 'knife',\n",
       " 44: 'spoon',\n",
       " 45: 'bowl',\n",
       " 46: 'banana',\n",
       " 47: 'apple',\n",
       " 48: 'sandwich',\n",
       " 49: 'orange',\n",
       " 50: 'broccoli',\n",
       " 51: 'carrot',\n",
       " 52: 'hot dog',\n",
       " 53: 'pizza',\n",
       " 54: 'donut',\n",
       " 55: 'cake',\n",
       " 56: 'chair',\n",
       " 57: 'couch',\n",
       " 58: 'potted plant',\n",
       " 59: 'bed',\n",
       " 60: 'dining table',\n",
       " 61: 'toilet',\n",
       " 62: 'tv',\n",
       " 63: 'laptop',\n",
       " 64: 'mouse',\n",
       " 65: 'remote',\n",
       " 66: 'keyboard',\n",
       " 67: 'cell phone',\n",
       " 68: 'microwave',\n",
       " 69: 'oven',\n",
       " 70: 'toaster',\n",
       " 71: 'sink',\n",
       " 72: 'refrigerator',\n",
       " 73: 'book',\n",
       " 74: 'clock',\n",
       " 75: 'vase',\n",
       " 76: 'scissors',\n",
       " 77: 'teddy bear',\n",
       " 78: 'hair drier',\n",
       " 79: 'toothbrush'}"
      ]
     },
     "execution_count": 5,
     "metadata": {},
     "output_type": "execute_result"
    }
   ],
   "execution_count": 5
  },
  {
   "metadata": {
    "ExecuteTime": {
     "end_time": "2025-10-15T09:37:45.128659Z",
     "start_time": "2025-10-15T09:37:45.125179Z"
    }
   },
   "cell_type": "code",
   "source": [
    "import json\n",
    "with open(\"yolo_names.json\", \"w\") as f:\n",
    "    json.dump(metadata[0][\"names\"], f, indent=4)"
   ],
   "id": "901f81bdd18322ff",
   "outputs": [],
   "execution_count": 6
  }
 ],
 "metadata": {
  "kernelspec": {
   "display_name": "Python 3",
   "language": "python",
   "name": "python3"
  },
  "language_info": {
   "codemirror_mode": {
    "name": "ipython",
    "version": 2
   },
   "file_extension": ".py",
   "mimetype": "text/x-python",
   "name": "python",
   "nbconvert_exporter": "python",
   "pygments_lexer": "ipython2",
   "version": "2.7.6"
  }
 },
 "nbformat": 4,
 "nbformat_minor": 5
}
